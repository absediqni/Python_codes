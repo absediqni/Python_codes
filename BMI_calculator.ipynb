{
 "cells": [
  {
   "cell_type": "markdown",
   "id": "9e68c000-a0a0-49cc-bbd4-95e3e9f64544",
   "metadata": {},
   "source": [
    "**BMI Calculator**"
   ]
  },
  {
   "cell_type": "markdown",
   "id": "3f2cfbab-2759-4ad7-9482-d616e9ce9569",
   "metadata": {},
   "source": [
    "*Calculate you Body Mass Index below;*"
   ]
  },
  {
   "cell_type": "code",
   "execution_count": 23,
   "id": "db0f3384-6379-4917-9498-2f9675af8b32",
   "metadata": {},
   "outputs": [
    {
     "name": "stdin",
     "output_type": "stream",
     "text": [
      "Enter Your name:  Absediq\n",
      "Your weight in pounds:  157\n",
      "Your Height in inches:  66\n"
     ]
    },
    {
     "name": "stdout",
     "output_type": "stream",
     "text": [
      "Your BMI is 25.33769513314968\n",
      "Absediq, you are overweight. You need to reduce your daily intake and increase physical activity.\n"
     ]
    }
   ],
   "source": [
    "Name = input(\"Enter Your name: \")\n",
    "Weight = int(input(\"Your weight in pounds: \"))\n",
    "Height = int(input(\"Your Height in inches: \"))\n",
    "BMI = (Weight * 703) / (Height * Height)\n",
    "print(f\"Your BMI is {BMI}\")\n",
    "if BMI>0:\n",
    "    if (BMI<18.5):\n",
    "        print(Name +\", you are underweight. You need to eat more calories than you burn with a focus on nutrient-based foods.\")\n",
    "    elif (BMI<24.9):\n",
    "        print(Name +\", you have a normal weight. You need to maintain a balanced diet and regular exercise routine.\")\n",
    "    elif (BMI<29.9):\n",
    "        print(Name +\", you are overweight. You need to reduce your daily intake and increase physical activity.\")\n",
    "    elif (BMI<34.9):\n",
    "        print(Name +\", you are obese. You need to consult a healthcare professional for a personalized weight loss guidance.\")\n",
    "    elif (BMI<39.9):\n",
    "        print(Name +\", you are severely obese. You need to seek medical attention and a medically supervised weight loss program.\")\n",
    "    elif (BMI>=40):\n",
    "        print(Name +\", you are morbidly obese. You need to seek medical attention and a medically supervised weight loss program.\")\n",
    "    else:\n",
    "        ptint(\"Enter a valid input\")\n"
   ]
  },
  {
   "cell_type": "code",
   "execution_count": null,
   "id": "127b3f98-9b60-499e-bc0a-691f7a5a1710",
   "metadata": {},
   "outputs": [],
   "source": []
  },
  {
   "cell_type": "code",
   "execution_count": null,
   "id": "bacaa7cd-96fe-4790-92a6-3be00e28bfc6",
   "metadata": {},
   "outputs": [],
   "source": []
  },
  {
   "cell_type": "code",
   "execution_count": null,
   "id": "b96033f3-33be-498f-aafa-5c94e04c60e0",
   "metadata": {},
   "outputs": [],
   "source": []
  },
  {
   "cell_type": "code",
   "execution_count": null,
   "id": "1e8c1b69-25ee-44f3-844e-7ad561b161b5",
   "metadata": {},
   "outputs": [],
   "source": []
  },
  {
   "cell_type": "code",
   "execution_count": null,
   "id": "86517bbe-7985-4660-9494-559da5b883c5",
   "metadata": {},
   "outputs": [],
   "source": []
  },
  {
   "cell_type": "code",
   "execution_count": null,
   "id": "3f4d188b-6bb3-4d7c-96fd-24d0217ed73c",
   "metadata": {},
   "outputs": [],
   "source": []
  }
 ],
 "metadata": {
  "kernelspec": {
   "display_name": "Python 3 (ipykernel)",
   "language": "python",
   "name": "python3"
  },
  "language_info": {
   "codemirror_mode": {
    "name": "ipython",
    "version": 3
   },
   "file_extension": ".py",
   "mimetype": "text/x-python",
   "name": "python",
   "nbconvert_exporter": "python",
   "pygments_lexer": "ipython3",
   "version": "3.12.7"
  }
 },
 "nbformat": 4,
 "nbformat_minor": 5
}
