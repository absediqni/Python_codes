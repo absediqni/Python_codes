{
 "cells": [
  {
   "cell_type": "code",
   "execution_count": 2,
   "id": "cb0d680d-4b4a-4ec6-9ec8-07cdc102eaeb",
   "metadata": {},
   "outputs": [],
   "source": [
    "import os, shutil"
   ]
  },
  {
   "cell_type": "code",
   "execution_count": 22,
   "id": "d09d1d36-c79f-4d44-b6d4-d4938a6e63b3",
   "metadata": {},
   "outputs": [],
   "source": [
    "path = r\"C:/Users/user/Desktop/Fiz/\""
   ]
  },
  {
   "cell_type": "code",
   "execution_count": 39,
   "id": "67f92c13-a860-45ba-8157-a402664ce001",
   "metadata": {},
   "outputs": [],
   "source": [
    "file_name = os.listdir(path)"
   ]
  },
  {
   "cell_type": "code",
   "execution_count": 40,
   "id": "81b161e9-c43b-470e-b8b1-d05f5d347d95",
   "metadata": {},
   "outputs": [],
   "source": [
    "folder_name = ['Image files','Docx files', 'PDF files', 'Twbx files']\n",
    "for loop in range(0,4):\n",
    "    if not os.path.exists(path + folder_name[loop]):\n",
    "        os.makedirs(path + folder_name[loop])"
   ]
  },
  {
   "cell_type": "code",
   "execution_count": 41,
   "id": "62635efe-c69c-4894-96b6-caec828ed269",
   "metadata": {},
   "outputs": [
    {
     "name": "stdout",
     "output_type": "stream",
     "text": [
      "Some files were not moved\n"
     ]
    }
   ],
   "source": [
    "for file in file_name:\n",
    "      if \".png\" in file and not os.path.exists(path + \"Image file/\" + file):\n",
    "        shutil.move(path + file, path + \"Image files/\" + file)\n",
    "      elif \".jpg\" in file and not os.path.exists(path + \"Image file/\" + file):\n",
    "        shutil.move(path + file, path + \"Image files/\" + file)\n",
    "      elif \".pdf\" in file and not os.path.exists(path + \"Image file/\" + file):\n",
    "        shutil.move(path + file, path + \"Image files/\" + file)\n",
    "      elif \".docx\" in file and not os.path.exists(path + \"Image file/\" + file):\n",
    "        shutil.move(path + file, path + \"Image files/\" + file)\n",
    "      elif \".twbx\" in file and not os.path.exists(path + \"Image file/\" + file):\n",
    "        shutil.move(path + file, path + \"Image files/\" + file)\n",
    "else:\n",
    "    print(\"Some files were not moved\")"
   ]
  },
  {
   "cell_type": "code",
   "execution_count": null,
   "id": "1584988f-c657-41b6-ad51-4963e29e4f64",
   "metadata": {},
   "outputs": [],
   "source": []
  },
  {
   "cell_type": "code",
   "execution_count": null,
   "id": "6152d226-6ca4-4bbd-b61a-908770e9a1d1",
   "metadata": {},
   "outputs": [],
   "source": []
  },
  {
   "cell_type": "code",
   "execution_count": null,
   "id": "8b9c3775-21aa-4a8e-a2c4-3da422d82ad8",
   "metadata": {},
   "outputs": [],
   "source": []
  },
  {
   "cell_type": "code",
   "execution_count": null,
   "id": "e18dd727-4a21-4d2d-a8ae-5f1393a86d88",
   "metadata": {},
   "outputs": [],
   "source": []
  }
 ],
 "metadata": {
  "kernelspec": {
   "display_name": "Python 3 (ipykernel)",
   "language": "python",
   "name": "python3"
  },
  "language_info": {
   "codemirror_mode": {
    "name": "ipython",
    "version": 3
   },
   "file_extension": ".py",
   "mimetype": "text/x-python",
   "name": "python",
   "nbconvert_exporter": "python",
   "pygments_lexer": "ipython3",
   "version": "3.12.7"
  }
 },
 "nbformat": 4,
 "nbformat_minor": 5
}
